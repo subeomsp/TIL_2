{
 "cells": [
  {
   "cell_type": "code",
   "execution_count": 1,
   "metadata": {},
   "outputs": [],
   "source": [
    "import pandas as pd\n",
    "from konlpy.tag import Okt\n",
    "from konlpy.tag import Mecab\n",
    "import re\n",
    "\n",
    "okt = Okt()\n",
    "mecab = Mecab()"
   ]
  },
  {
   "cell_type": "code",
   "execution_count": 2,
   "metadata": {},
   "outputs": [
    {
     "name": "stderr",
     "output_type": "stream",
     "text": [
      "C:\\Users\\sb\\anaconda3\\envs\\nlp\\lib\\site-packages\\IPython\\core\\interactiveshell.py:3072: DtypeWarning: Columns (0,1,2,5) have mixed types.Specify dtype option on import or set low_memory=False.\n",
      "  interactivity=interactivity, compiler=compiler, result=result)\n"
     ]
    }
   ],
   "source": [
    "df = pd.read_csv('맛집리뷰.csv')"
   ]
  },
  {
   "cell_type": "code",
   "execution_count": 3,
   "metadata": {},
   "outputs": [],
   "source": [
    "del df['Unnamed: 0']\n",
    "columns = ['리뷰', '평점', '답변', '예약여부', '상호명']"
   ]
  },
  {
   "cell_type": "code",
   "execution_count": 4,
   "metadata": {},
   "outputs": [],
   "source": [
    "df.columns = columns"
   ]
  },
  {
   "cell_type": "code",
   "execution_count": 5,
   "metadata": {},
   "outputs": [],
   "source": [
    "df = df[['리뷰','평점']]"
   ]
  },
  {
   "cell_type": "code",
   "execution_count": 6,
   "metadata": {},
   "outputs": [
    {
     "data": {
      "text/plain": [
       "nan"
      ]
     },
     "execution_count": 6,
     "metadata": {},
     "output_type": "execute_result"
    }
   ],
   "source": [
    "df['평점'].iloc[1396211]"
   ]
  },
  {
   "cell_type": "code",
   "execution_count": 7,
   "metadata": {},
   "outputs": [],
   "source": [
    "#크롤링 도중 오류가 발생한 데이터 삭제\n",
    "df = df.dropna()\n",
    "df = df.iloc[:1143500]"
   ]
  },
  {
   "cell_type": "code",
   "execution_count": 8,
   "metadata": {},
   "outputs": [],
   "source": [
    "df['평점'] = df['평점'].astype(float)"
   ]
  },
  {
   "cell_type": "code",
   "execution_count": 9,
   "metadata": {},
   "outputs": [
    {
     "name": "stdout",
     "output_type": "stream",
     "text": [
      "평균평점: 4.563667686926104\n"
     ]
    },
    {
     "data": {
      "image/png": "[encoded data removed]",
      "text/plain": [
       "<Figure size 432x288 with 1 Axes>"
      ]
     },
     "metadata": {
      "needs_background": "light"
     },
     "output_type": "display_data"
    }
   ],
   "source": [
    "df['평점'].hist()\n",
    "print('평균평점:',df['평점'].mean())"
   ]
  },
  {
   "cell_type": "markdown",
   "metadata": {},
   "source": [
    "전반적으로 리뷰들의 평점이 높다."
   ]
  },
  {
   "cell_type": "code",
   "execution_count": 10,
   "metadata": {},
   "outputs": [],
   "source": [
    "review_list = list(df['리뷰'])"
   ]
  },
  {
   "cell_type": "code",
   "execution_count": 11,
   "metadata": {},
   "outputs": [
    {
     "data": {
      "text/plain": [
       "['친절하시고 맛있었어요 ',\n",
       " '주문:티본세트700g\\n평:스테이크에서 뼈조각이 많이 나와서 당황스러웠어요.맛도 가격대비 크게 훌륭하진 않았습니다.\\n여러모로 아쉬운 식사였습니다.',\n",
       " '분위기, 맛 괜찮았어요',\n",
       " '맛있어요 ~~ ',\n",
       " '서비스와 맛 모두 만족합니다 ~^^',\n",
       " '서비스도 친절하고, 음식도 맛있었어요.\\n친구들 데리고 갔는데 다들 잘 먹어서 만족스러웠습니다.',\n",
       " '600g 드세요 그이상은 너무 많고 배불러요 비싸기만하고요',\n",
       " '게살파스타 진짜맛있었는데\\n토마호그는 너무 질겼어요..ㅜ\\n600g토마호그세트가있는데 세트인데 600g이품절이라고\\n800g 900g남아있다고하셨는데\\n오후1시였는데 품절됬다니\\n좀 당황스럽고 일부러 큰거팔아서 마진남기려는느낌들었어요.;;;;\\n직원분들은친절해서좋았습니다',\n",
       " '모힝 음식 맛있어요',\n",
       " '친절한 서비스']"
      ]
     },
     "execution_count": 11,
     "metadata": {},
     "output_type": "execute_result"
    }
   ],
   "source": [
    "review_list[:10]"
   ]
  },
  {
   "cell_type": "markdown",
   "metadata": {},
   "source": [
    "# Mecab"
   ]
  },
  {
   "cell_type": "code",
   "execution_count": 12,
   "metadata": {},
   "outputs": [
    {
     "data": {
      "text/plain": [
       "[('주문', 'NNG'),\n",
       " (':', 'SC'),\n",
       " ('티', 'NNG'),\n",
       " ('본', 'VV+ETM'),\n",
       " ('세트', 'NNG'),\n",
       " ('700', 'SN'),\n",
       " ('g', 'SL'),\n",
       " ('평', 'NNG'),\n",
       " (':', 'SC'),\n",
       " ('스테이크', 'NNG'),\n",
       " ('에서', 'JKB'),\n",
       " ('뼈', 'NNG'),\n",
       " ('조각', 'NNG'),\n",
       " ('이', 'JKS'),\n",
       " ('많이', 'MAG'),\n",
       " ('나와서', 'VV+EC'),\n",
       " ('당황', 'NNG'),\n",
       " ('스러웠', 'XSA+EP'),\n",
       " ('어요', 'EF'),\n",
       " ('.', 'SF'),\n",
       " ('맛', 'NNG'),\n",
       " ('도', 'JX'),\n",
       " ('가격', 'NNG'),\n",
       " ('대비', 'NNG'),\n",
       " ('크', 'VA'),\n",
       " ('게', 'EC'),\n",
       " ('훌륭', 'XR'),\n",
       " ('하', 'XSA'),\n",
       " ('진', 'EC+JX'),\n",
       " ('않', 'VX'),\n",
       " ('았', 'EP'),\n",
       " ('습니다', 'EF'),\n",
       " ('.', 'SF'),\n",
       " ('여러모로', 'MAG'),\n",
       " ('아쉬운', 'VA+ETM'),\n",
       " ('식사', 'NNG'),\n",
       " ('였', 'VCP+EP'),\n",
       " ('습니다', 'EF'),\n",
       " ('.', 'SF')]"
      ]
     },
     "execution_count": 12,
     "metadata": {},
     "output_type": "execute_result"
    }
   ],
   "source": [
    "test = mecab.pos(review_list[1])\n",
    "test"
   ]
  },
  {
   "cell_type": "code",
   "execution_count": 13,
   "metadata": {},
   "outputs": [],
   "source": [
    "test = mecab.pos(review_list[1])\n",
    "\n",
    "test2 = []\n",
    "for t1, t2 in test:\n",
    "    if t2[0] in ['N', 'M', 'V', 'X']:\n",
    "        test2.append(t1)"
   ]
  },
  {
   "cell_type": "code",
   "execution_count": 14,
   "metadata": {},
   "outputs": [
    {
     "data": {
      "text/plain": [
       "['주문',\n",
       " '티',\n",
       " '본',\n",
       " '세트',\n",
       " '평',\n",
       " '스테이크',\n",
       " '뼈',\n",
       " '조각',\n",
       " '많이',\n",
       " '나와서',\n",
       " '당황',\n",
       " '스러웠',\n",
       " '맛',\n",
       " '가격',\n",
       " '대비',\n",
       " '크',\n",
       " '훌륭',\n",
       " '하',\n",
       " '않',\n",
       " '여러모로',\n",
       " '아쉬운',\n",
       " '식사',\n",
       " '였']"
      ]
     },
     "execution_count": 14,
     "metadata": {},
     "output_type": "execute_result"
    }
   ],
   "source": [
    "test2"
   ]
  },
  {
   "cell_type": "code",
   "execution_count": 16,
   "metadata": {},
   "outputs": [],
   "source": [
    "review_token = []\n",
    "for review in review_list:\n",
    "    review = re.sub('([a-zA-Z])','',review)\n",
    "    review = re.sub('[ㄱ-ㅎㅏ-ㅣ]+','',review)\n",
    "    review = re.sub('[-=+,#/\\?:^$.@*\\\"※~&%ㆍ!』\\\\‘|\\(\\)\\[\\]\\<\\>`\\'…;》\\n]','',review)\n",
    "    review_token.append(mecab.nouns(review))"
   ]
  },
  {
   "cell_type": "code",
   "execution_count": 18,
   "metadata": {},
   "outputs": [
    {
     "data": {
      "text/plain": [
       "'친절하시고 맛있었어요 '"
      ]
     },
     "execution_count": 18,
     "metadata": {},
     "output_type": "execute_result"
    }
   ],
   "source": [
    "review_list[0]"
   ]
  },
  {
   "cell_type": "code",
   "execution_count": 17,
   "metadata": {},
   "outputs": [
    {
     "data": {
      "text/plain": [
       "[['친절'],\n",
       " ['주문', '티', '세트', '평', '스테이크', '뼈', '조각', '당황', '맛', '가격', '대비', '식사'],\n",
       " ['분위기', '맛'],\n",
       " [],\n",
       " ['서비스', '맛', '만족'],\n",
       " ['서비스', '친절', '음식', '친구', '만족'],\n",
       " ['이상'],\n",
       " ['게살',\n",
       "  '파스타',\n",
       "  '토마',\n",
       "  '호그',\n",
       "  '토마호',\n",
       "  '세트',\n",
       "  '세트',\n",
       "  '이',\n",
       "  '품절',\n",
       "  '오후',\n",
       "  '시',\n",
       "  '품절',\n",
       "  '당황',\n",
       "  '거',\n",
       "  '마진',\n",
       "  '직원',\n",
       "  '친절'],\n",
       " ['힝', '음식'],\n",
       " ['친절', '서비스']]"
      ]
     },
     "execution_count": 17,
     "metadata": {},
     "output_type": "execute_result"
    }
   ],
   "source": [
    "review_token[:10]"
   ]
  },
  {
   "cell_type": "code",
   "execution_count": 19,
   "metadata": {},
   "outputs": [
    {
     "name": "stdout",
     "output_type": "stream",
     "text": [
      "[(1, 1), (2, 1), (3, 1), (4, 1), (5, 1), (6, 1), (7, 1), (8, 1), (9, 1), (10, 1), (11, 1), (12, 1)]\n"
     ]
    }
   ],
   "source": [
    "from gensim import corpora\n",
    "dictionary = corpora.Dictionary(review_token)\n",
    "corpus = [dictionary.doc2bow(text) for text in review_token]"
   ]
  },
  {
   "cell_type": "code",
   "execution_count": null,
   "metadata": {},
   "outputs": [],
   "source": [
    "import gensim\n",
    "#토픽 5개\n",
    "NUM_TOPICS = 5 \n",
    "ldamodel = gensim.models.ldamodel.LdaModel(corpus, num_topics = NUM_TOPICS, id2word=dictionary, passes=15)\n",
    "topics = ldamodel.print_topics(num_words=20)"
   ]
  },
  {
   "cell_type": "code",
   "execution_count": null,
   "metadata": {},
   "outputs": [],
   "source": []
  }
 ],
 "metadata": {
  "kernelspec": {
   "display_name": "Python 3",
   "language": "python",
   "name": "python3"
  },
  "language_info": {
   "codemirror_mode": {
    "name": "ipython",
    "version": 3
   },
   "file_extension": ".py",
   "mimetype": "text/x-python",
   "name": "python",
   "nbconvert_exporter": "python",
   "pygments_lexer": "ipython3",
   "version": "3.6.10"
  }
 },
 "nbformat": 4,
 "nbformat_minor": 4
}
