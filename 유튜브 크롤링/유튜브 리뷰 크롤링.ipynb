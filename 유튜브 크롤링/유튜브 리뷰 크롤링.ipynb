{
 "cells": [
  {
   "cell_type": "code",
   "execution_count": 1,
   "metadata": {},
   "outputs": [],
   "source": [
    "import time\n",
    "import re\n",
    "import pandas as pd\n",
    "import numpy as np\n",
    "import requests\n",
    "import pickle\n",
    "from bs4 import BeautifulSoup\n",
    "from selenium import webdriver\n",
    "from selenium.webdriver.common.keys import Keys\n",
    "import pickle"
   ]
  },
  {
   "cell_type": "markdown",
   "metadata": {},
   "source": [
    "입력어 받는 파이썬파일로.  \n",
    "원하는리뷰수를 인풋?  \n",
    "-이거계산하는거만들어보고  \n",
    "url도 인풋으로"
   ]
  },
  {
   "cell_type": "code",
   "execution_count": 74,
   "metadata": {},
   "outputs": [],
   "source": [
    "#스크롤 횟수\n",
    "\n",
    "def Youtube_crawl(url, scroll_cnt):\n",
    "    scroll_cnt = scroll_cnt\n",
    "\n",
    "    url = url\n",
    "\n",
    "    #자신의 크롬 버전에 맞는 드라이버 다운\n",
    "    driver = webdriver.Chrome('./chromedriver') #크롬 드라이버 경로\n",
    "    driver.get(url)\n",
    "\n",
    "    time.sleep(2) #댓글창로딩\n",
    "\n",
    "    body = driver.find_element_by_tag_name('body')\n",
    "\n",
    "    while scroll_cnt:\n",
    "        body.send_keys(Keys.PAGE_DOWN)\n",
    "        time.sleep(1)\n",
    "        scroll_cnt -= 1\n",
    "\n",
    "    reviews = driver.find_elements_by_xpath('//*[@id=\"main\"]')\n",
    "    likes = driver.find_elements_by_xpath('//*[@id=\"vote-count-middle\"]')\n",
    "    print(scroll_cnt, len(reviews))\n",
    "\n",
    "\n",
    "    if len(reviews) != len(likes):\n",
    "        reviews = reviews[:-1] #마지막 review에 Youtube Premium 광고가 섞이는경우가있음\n",
    "\n",
    "    df = pd.DataFrame(columns=['리뷰', '좋아요'])\n",
    "\n",
    "    review_list = []\n",
    "    like_list = []\n",
    "    for review, like in zip(reviews, likes):\n",
    "        review_list.append(review.text)\n",
    "        like_list.append(like.text)\n",
    "\n",
    "    df['리뷰'] = review_list\n",
    "    df['좋아요'] = like_list"
   ]
  },
  {
   "cell_type": "markdown",
   "metadata": {},
   "source": [
    "### page_down을 사용하면 버벅거리기에 느리다.\n",
    "- page_down 대신에 scrollHeight 이용"
   ]
  },
  {
   "cell_type": "code",
   "execution_count": null,
   "metadata": {},
   "outputs": [],
   "source": [
    "def Youtube_crawl_2(url):\n",
    "    url = url\n",
    "\n",
    "    #자신의 크롬 버전에 맞는 드라이버 다운\n",
    "    driver = webdriver.Chrome('./chromedriver') #크롬 드라이버 경로\n",
    "    driver.get(url)\n",
    "\n",
    "    time.sleep(5) #댓글창로딩\n",
    "\n",
    "    last_page_height = driver.execute_script(\"return document.documentElement.scrollHeight\")\n",
    "\n",
    "    #댓글 최하단까지 이동\n",
    "    while True:\n",
    "        driver.execute_script(\"window.scrollTo(0, document.documentElement.scrollHeight)\")\n",
    "        time.sleep(5)\n",
    "        new_page_height = driver.execute_script(\"return document.documentElement.scrollHeight\")\n",
    "\n",
    "        if new_page_height == last_page_height:\n",
    "            break\n",
    "\n",
    "        last_page_height = new_page_height\n",
    "    \n",
    "    #자세히 보기를 클릭해 리뷰 잘림 현상 방지\n",
    "    load_more = driver.find_elements_by_xpath('//*[@id=\"more\"]/span')\n",
    "\n",
    "    for load in load_more:\n",
    "        if load.text == '자세히 보기':\n",
    "            load.click()\n",
    "\n",
    "    reviews = driver.find_elements_by_xpath('//*[@id=\"main\"]')\n",
    "    likes = driver.find_elements_by_xpath('//*[@id=\"vote-count-middle\"]')\n",
    "\n",
    "    if len(reviews) != len(likes):\n",
    "        reviews = reviews[:-1] #마지막 review에 Youtube Premium 광고가 섞이는경우가있음\n",
    "\n",
    "    df = pd.DataFrame(columns=['리뷰', '좋아요'])\n",
    "\n",
    "    review_list = []\n",
    "    like_list = []\n",
    "    for review, like in zip(reviews, likes):\n",
    "        review_list.append(review.text)\n",
    "        like_list.append(like.text)\n",
    "\n",
    "    df['리뷰'] = review_list\n",
    "    df['좋아요'] = like_list\n",
    "    \n",
    "    return df"
   ]
  },
  {
   "cell_type": "markdown",
   "metadata": {},
   "source": [
    "### 답글이 있는 댓글을 못가져온다"
   ]
  },
  {
   "cell_type": "code",
   "execution_count": 284,
   "metadata": {},
   "outputs": [],
   "source": [
    "def Youtube_crawl_3(url):\n",
    "    url = url\n",
    "\n",
    "    #자신의 크롬 버전에 맞는 드라이버 다운\n",
    "    driver = webdriver.Chrome('./chromedriver') #크롬 드라이버 경로\n",
    "    driver.get(url)\n",
    "\n",
    "    time.sleep(5) #댓글창로딩\n",
    "\n",
    "    #모든 댓글 불러오기\n",
    "    last_page_height = driver.execute_script(\"return document.documentElement.scrollHeight\")\n",
    "    \n",
    "    while True:\n",
    "        driver.execute_script(\"window.scrollTo(0, document.documentElement.scrollHeight)\")\n",
    "        time.sleep(5)\n",
    "        new_page_height = driver.execute_script(\"return document.documentElement.scrollHeight\")\n",
    "\n",
    "        if new_page_height == last_page_height:\n",
    "            break\n",
    "\n",
    "        last_page_height = new_page_height\n",
    "    \n",
    "    #대댓글 불러오기\n",
    "    load_reply = driver.find_elements_by_selector('#contents #text')\n",
    "\n",
    "    for load in load_reply:\n",
    "        #답글을 남기는 '답글' 과 '답글 n개 보기' 중 'n개 보기' 필터링\n",
    "        if '보기' in load.text: \n",
    "            driver.execute_script('arguments[0].click();',load)\n",
    "            #load.click()의 경우 오류가 발생\n",
    "        else:\n",
    "            pass\n",
    "    \n",
    "    #대댓글 더 불러오기\n",
    "    while True:\n",
    "        try:\n",
    "            check_point = driver.find_elements_by_xpath('//*[@id=\"continuation\"]/yt-next-continuation/paper-button/yt-formatted-string')\n",
    "\n",
    "            if len(check_point):\n",
    "                #답글이 일정 수준을 넘기면 '답글 더보기'가 등장, 이를 클릭하기 위함\n",
    "                load_more_reply = driver.find_elements_by_xpath('//*[@id=\"continuation\"]/yt-next-continuation/paper-button/yt-formatted-string')\n",
    "\n",
    "                for load in load_more_reply:\n",
    "                    driver.execute_script('arguments[0].click();',load)\n",
    "        except:\n",
    "            break\n",
    "\n",
    "    \n",
    "    #답글에도 자세히보기를 사용해야할경우가있기때문에 자세히보기 클릭은 답글을 다 연 다음에\n",
    "    load_detail = driver.find_elements_by_xpath('//*[@id=\"more\"]/span')\n",
    "\n",
    "    for load in load_detail:\n",
    "        if load.text == '자세히 보기':\n",
    "            driver.execute_script('arguments[0].click();',load)\n",
    "        else:\n",
    "            pass\n",
    "\n",
    "    reviews = driver.find_elements_by_css_selector('#content-text')\n",
    "    likes = driver.find_elements_by_xpath('//*[@id=\"vote-count-middle\"]')\n",
    "\n",
    "    if len(reviews) != len(likes):\n",
    "        reviews = reviews[:-1] #마지막 review에 Youtube Premium 광고가 섞이는경우가있음\n",
    "\n",
    "    df = pd.DataFrame(columns=['리뷰', '좋아요'])\n",
    "\n",
    "    review_list = []\n",
    "    like_list = []\n",
    "    for review, like in zip(reviews, likes):\n",
    "        review_list.append(review.text)\n",
    "        like_list.append(like.text)\n",
    "\n",
    "    df['리뷰'] = review_list\n",
    "    df['좋아요'] = like_list\n",
    "    \n",
    "    #좋아요 전처리\n",
    "    df['좋아요'] = df['좋아요'].apply(lambda x: re.sub('천 | 만','000',x)) #천의 경우는 1천 / 만의 경우는 1.1만 의 경우로 표현됨\n",
    "    \n",
    "    #좋아요가 없는 칼럼은 1로 대체\n",
    "    indexes = df[df['좋아요'] == ''].index\n",
    "    df.loc[indexes, '좋아요'] = 1\n",
    "    \n",
    "    return df"
   ]
  },
  {
   "cell_type": "markdown",
   "metadata": {},
   "source": [
    "대댓글 더 불러오는 과정에서 문제가 발생한다...."
   ]
  },
  {
   "cell_type": "code",
   "execution_count": 200,
   "metadata": {},
   "outputs": [
    {
     "ename": "KeyboardInterrupt",
     "evalue": "",
     "output_type": "error",
     "traceback": [
      "\u001b[1;31m---------------------------------------------------------------------------\u001b[0m",
      "\u001b[1;31mKeyboardInterrupt\u001b[0m                         Traceback (most recent call last)",
      "\u001b[1;32m<ipython-input-200-37d54496cbcd>\u001b[0m in \u001b[0;36m<module>\u001b[1;34m\u001b[0m\n\u001b[1;32m----> 1\u001b[1;33m \u001b[0mdf\u001b[0m \u001b[1;33m=\u001b[0m \u001b[0mYoutube_crawl_3\u001b[0m\u001b[1;33m(\u001b[0m\u001b[1;34m'https://www.youtube.com/watch?v=HhgcXuN0MlU&t=599s'\u001b[0m\u001b[1;33m)\u001b[0m\u001b[1;33m\u001b[0m\u001b[1;33m\u001b[0m\u001b[0m\n\u001b[0m",
      "\u001b[1;32m<ipython-input-199-9617b6ce371c>\u001b[0m in \u001b[0;36mYoutube_crawl_3\u001b[1;34m(url)\u001b[0m\n\u001b[0;32m     13\u001b[0m     \u001b[1;32mwhile\u001b[0m \u001b[1;32mTrue\u001b[0m\u001b[1;33m:\u001b[0m\u001b[1;33m\u001b[0m\u001b[1;33m\u001b[0m\u001b[0m\n\u001b[0;32m     14\u001b[0m         \u001b[0mdriver\u001b[0m\u001b[1;33m.\u001b[0m\u001b[0mexecute_script\u001b[0m\u001b[1;33m(\u001b[0m\u001b[1;34m\"window.scrollTo(0, document.documentElement.scrollHeight)\"\u001b[0m\u001b[1;33m)\u001b[0m\u001b[1;33m\u001b[0m\u001b[1;33m\u001b[0m\u001b[0m\n\u001b[1;32m---> 15\u001b[1;33m         \u001b[0mtime\u001b[0m\u001b[1;33m.\u001b[0m\u001b[0msleep\u001b[0m\u001b[1;33m(\u001b[0m\u001b[1;36m5\u001b[0m\u001b[1;33m)\u001b[0m\u001b[1;33m\u001b[0m\u001b[1;33m\u001b[0m\u001b[0m\n\u001b[0m\u001b[0;32m     16\u001b[0m         \u001b[0mnew_page_height\u001b[0m \u001b[1;33m=\u001b[0m \u001b[0mdriver\u001b[0m\u001b[1;33m.\u001b[0m\u001b[0mexecute_script\u001b[0m\u001b[1;33m(\u001b[0m\u001b[1;34m\"return document.documentElement.scrollHeight\"\u001b[0m\u001b[1;33m)\u001b[0m\u001b[1;33m\u001b[0m\u001b[1;33m\u001b[0m\u001b[0m\n\u001b[0;32m     17\u001b[0m \u001b[1;33m\u001b[0m\u001b[0m\n",
      "\u001b[1;31mKeyboardInterrupt\u001b[0m: "
     ]
    }
   ],
   "source": [
    "df = Youtube_crawl_3('https://www.youtube.com/watch?v=HhgcXuN0MlU&t=599s')"
   ]
  },
  {
   "cell_type": "code",
   "execution_count": 272,
   "metadata": {},
   "outputs": [],
   "source": [
    "url = 'https://www.youtube.com/watch?v=HhgcXuN0MlU&t=599s'\n",
    "\n",
    "#자신의 크롬 버전에 맞는 드라이버 다운\n",
    "driver = webdriver.Chrome('./chromedriver') #크롬 드라이버 경로\n",
    "driver.get(url)\n",
    "\n",
    "time.sleep(5) #댓글창로딩\n",
    "\n",
    "#모든 댓글 불러오기\n",
    "last_page_height = driver.execute_script(\"return document.documentElement.scrollHeight\")\n",
    "\n",
    "while True:\n",
    "    driver.execute_script(\"window.scrollTo(0, document.documentElement.scrollHeight)\")\n",
    "    time.sleep(5)\n",
    "    new_page_height = driver.execute_script(\"return document.documentElement.scrollHeight\")\n",
    "\n",
    "    if new_page_height == last_page_height:\n",
    "        break\n",
    "\n",
    "    last_page_height = new_page_height"
   ]
  },
  {
   "cell_type": "code",
   "execution_count": 209,
   "metadata": {},
   "outputs": [
    {
     "data": {
      "text/plain": [
       "1341"
      ]
     },
     "execution_count": 209,
     "metadata": {},
     "output_type": "execute_result"
    }
   ],
   "source": [
    "reviews = driver.find_elements_by_xpath('//*[@id=\"main\"]')\n",
    "len(reviews)"
   ]
  },
  {
   "cell_type": "code",
   "execution_count": 274,
   "metadata": {},
   "outputs": [],
   "source": [
    "load_reply = driver.find_elements_by_css_selector('#contents #text')\n",
    "# len(load_reply)\n",
    "\n",
    "for load in load_reply:\n",
    "    #답글을 남기는 '답글' 과 '답글 n개 보기' 두 가지 구분점을 '보기'로\n",
    "    if '보기' in load.text: \n",
    "        #load.click()의 경우 오류가 발생\n",
    "        driver.execute_script('arguments[0].click();',load) \n",
    "    else:\n",
    "        pass"
   ]
  },
  {
   "cell_type": "code",
   "execution_count": 275,
   "metadata": {},
   "outputs": [],
   "source": [
    "while True:\n",
    "    try:\n",
    "        check_point = driver.find_elements_by_xpath('//*[@id=\"continuation\"]/yt-next-continuation/paper-button/yt-formatted-string')\n",
    "\n",
    "        if len(check_point):\n",
    "            #답글이 일정 수준을 넘기면 '답글 더보기'가 등장, 이를 클릭하기 위함\n",
    "            load_more_reply = driver.find_elements_by_xpath('//*[@id=\"continuation\"]/yt-next-continuation/paper-button/yt-formatted-string')\n",
    "\n",
    "            for load in load_more_reply:\n",
    "                driver.execute_script('arguments[0].click();',load)\n",
    "\n",
    "    except:\n",
    "        break"
   ]
  },
  {
   "cell_type": "markdown",
   "metadata": {},
   "source": [
    "'자세히 보기'로 필터링"
   ]
  },
  {
   "cell_type": "code",
   "execution_count": 276,
   "metadata": {},
   "outputs": [],
   "source": [
    "#답글에도 자세히보기를 사용해야할경우가있기때문에 자세히보기 클릭은 답글을 다 연 다음에\n",
    "load_detail = driver.find_elements_by_xpath('//*[@id=\"more\"]/span')\n",
    "\n",
    "for load in load_detail:\n",
    "    if load.text == '자세히 보기':\n",
    "        driver.execute_script('arguments[0].click();',load)"
   ]
  },
  {
   "cell_type": "code",
   "execution_count": 213,
   "metadata": {},
   "outputs": [
    {
     "data": {
      "text/plain": [
       "2118"
      ]
     },
     "execution_count": 213,
     "metadata": {},
     "output_type": "execute_result"
    }
   ],
   "source": [
    "reviews = driver.find_elements_by_xpath('//*[@id=\"main\"]')\n",
    "len(reviews)"
   ]
  },
  {
   "cell_type": "markdown",
   "metadata": {},
   "source": [
    "보다 많은 리뷰가 성공적으로 불러와졌다"
   ]
  },
  {
   "cell_type": "code",
   "execution_count": 277,
   "metadata": {},
   "outputs": [],
   "source": [
    "reviews = driver.find_elements_by_css_selector('#content-text')\n",
    "likes = driver.find_elements_by_xpath('//*[@id=\"vote-count-middle\"]')\n",
    "\n",
    "if len(reviews) != len(likes):\n",
    "    reviews = reviews[:-1] #마지막 review에 Youtube Premium 광고가 섞이는경우가있음\n",
    "\n",
    "df = pd.DataFrame(columns=['리뷰', '좋아요'])\n",
    "\n",
    "review_list = []\n",
    "like_list = []\n",
    "for review, like in zip(reviews, likes):\n",
    "    review_list.append(review.text)\n",
    "    like_list.append(like.text)\n",
    "\n",
    "df['리뷰'] = review_list\n",
    "df['좋아요'] = like_list"
   ]
  },
  {
   "cell_type": "markdown",
   "metadata": {},
   "source": [
    "### 좋아요 수 전처리\n",
    "- '1천', or ''"
   ]
  },
  {
   "cell_type": "markdown",
   "metadata": {},
   "source": [
    "답글과 자세히보기문제"
   ]
  },
  {
   "cell_type": "code",
   "execution_count": 281,
   "metadata": {},
   "outputs": [],
   "source": [
    "df['좋아요'] = df['좋아요'].apply(lambda x: re.sub('천 | 만','000',x)) #천의 경우는 1천 / 만의 경우는 1.1만 의 경우로 표현됨\n",
    "\n",
    "#좋아요가 없는 칼럼은 1로 대체\n",
    "indexes = df[df['좋아요'] == ''].index\n",
    "df.loc[indexes, '좋아요'] = 1"
   ]
  },
  {
   "cell_type": "code",
   "execution_count": 283,
   "metadata": {},
   "outputs": [],
   "source": [
    "df.to_pickle('유튜브 리뷰_2.pkl')"
   ]
  },
  {
   "cell_type": "markdown",
   "metadata": {},
   "source": [
    "like에 가중치를 둔다면?\n",
    "댓글 * like로 가중치를두어계산(이때 log2 씌워주고) #like가없다면 차이를두어야겠지?"
   ]
  }
 ],
 "metadata": {
  "kernelspec": {
   "display_name": "Python 3",
   "language": "python",
   "name": "python3"
  },
  "language_info": {
   "codemirror_mode": {
    "name": "ipython",
    "version": 3
   },
   "file_extension": ".py",
   "mimetype": "text/x-python",
   "name": "python",
   "nbconvert_exporter": "python",
   "pygments_lexer": "ipython3",
   "version": "3.6.10"
  }
 },
 "nbformat": 4,
 "nbformat_minor": 4
}
