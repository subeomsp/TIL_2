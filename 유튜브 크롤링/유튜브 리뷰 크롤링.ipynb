{
 "cells": [
  {
   "cell_type": "code",
   "execution_count": null,
   "metadata": {},
   "outputs": [],
   "source": [
    "import time\n",
    "import re\n",
    "import pandas as pd\n",
    "import numpy as np\n",
    "import requests\n",
    "import pickle\n",
    "from bs4 import BeautifulSoup\n",
    "from selenium import webdriver\n",
    "from selenium.webdriver.common.keys import Keys"
   ]
  },
  {
   "cell_type": "markdown",
   "metadata": {},
   "source": [
    "입력어 받는 파이썬파일로.  \n",
    "원하는리뷰수를 인풋?  \n",
    "-이거계산하는거만들어보고  \n",
    "url도 인풋으로"
   ]
  },
  {
   "cell_type": "code",
   "execution_count": 74,
   "metadata": {},
   "outputs": [],
   "source": [
    "#스크롤 횟수\n",
    "\n",
    "def Youtube_crawl(url, scroll_cnt):\n",
    "    scroll_cnt = scroll_cnt\n",
    "\n",
    "    url = url\n",
    "\n",
    "    #자신의 크롬 버전에 맞는 드라이버 다운\n",
    "    driver = webdriver.Chrome('./chromedriver') #크롬 드라이버 경로\n",
    "    driver.get(url)\n",
    "\n",
    "    time.sleep(2) #댓글창로딩\n",
    "\n",
    "    body = driver.find_element_by_tag_name('body')\n",
    "\n",
    "    while scroll_cnt:\n",
    "        body.send_keys(Keys.PAGE_DOWN)\n",
    "        time.sleep(1)\n",
    "        scroll_cnt -= 1\n",
    "\n",
    "    reviews = driver.find_elements_by_xpath('//*[@id=\"main\"]')\n",
    "    likes = driver.find_elements_by_xpath('//*[@id=\"vote-count-middle\"]')\n",
    "    print(scroll_cnt, len(reviews))\n",
    "\n",
    "\n",
    "    if len(reviews) != len(likes):\n",
    "        reviews = reviews[:-1] #마지막 review에 Youtube Premium 광고가 섞이는경우가있음\n",
    "\n",
    "    df = pd.DataFrame(columns=['리뷰', '좋아요'])\n",
    "\n",
    "    review_list = []\n",
    "    like_list = []\n",
    "    for review, like in zip(reviews, likes):\n",
    "        review_list.append(review.text)\n",
    "        like_list.append(like.text)\n",
    "\n",
    "    df['리뷰'] = review_list\n",
    "    df['좋아요'] = like_list"
   ]
  },
  {
   "cell_type": "markdown",
   "metadata": {},
   "source": [
    "page_down을 사용하면 한번에 사이트의 맨 아래로 갈 수 없기에 느리다."
   ]
  },
  {
   "cell_type": "code",
   "execution_count": 86,
   "metadata": {},
   "outputs": [],
   "source": [
    "url = 'https://www.youtube.com/watch?v=HhgcXuN0MlU&t=599s'\n",
    "\n",
    "#자신의 크롬 버전에 맞는 드라이버 다운\n",
    "driver = webdriver.Chrome('./chromedriver') #크롬 드라이버 경로\n",
    "driver.get(url)\n",
    "\n",
    "time.sleep(5) #댓글창로딩\n",
    "\n",
    "scroll_cnt = 20\n",
    "\n",
    "for i in range(scroll_cnt):\n",
    "    driver.execute_script(\"window.scrollTo(0, document.documentElement.scrollHeight)\")\n",
    "    time.sleep(5)\n",
    "    \n",
    "# last_page_height = driver.execute_script(\"return document.documentElement.scrollHeight\")\n",
    "\n",
    "# while True:\n",
    "#     driver.execute_script(\"window.scrollTo(0, document.documentElement.scrollHeight)\")\n",
    "#     time.sleep(5)\n",
    "#     new_page_height = driver.execute_script(\"return document.documentElement.scrollHeight\")\n",
    "\n",
    "#     if new_page_height == last_page_height:\n",
    "#         break"
   ]
  },
  {
   "cell_type": "markdown",
   "metadata": {},
   "source": [
    "# 댓글 하나하나 쭈욱 처리하면서 내려오는게 더 낫지않을까"
   ]
  },
  {
   "cell_type": "code",
   "execution_count": 221,
   "metadata": {},
   "outputs": [],
   "source": [
    "reply = driver.find_elements_by_xpath('//*[@id=\"contents\"]/ytd-comment-thread-renderer')"
   ]
  },
  {
   "cell_type": "code",
   "execution_count": 223,
   "metadata": {},
   "outputs": [
    {
     "data": {
      "text/plain": [
       "420"
      ]
     },
     "execution_count": 223,
     "metadata": {},
     "output_type": "execute_result"
    }
   ],
   "source": [
    "len(reply)"
   ]
  },
  {
   "cell_type": "code",
   "execution_count": 108,
   "metadata": {},
   "outputs": [],
   "source": [
    "#답글에도 자세히보기를 사용해야할경우가있기때문에 자세히보기 클릭은 답글을 다 연 다음에\n",
    "load_detail = driver.find_elements_by_xpath('//*[@id=\"more\"]/span')\n",
    "\n",
    "for load in load_detail:\n",
    "    if load.text == '자세히 보기':\n",
    "        load.click()"
   ]
  },
  {
   "cell_type": "code",
   "execution_count": 197,
   "metadata": {},
   "outputs": [],
   "source": [
    "load_reply = driver.find_elements_by_css_selector('#sections #text')"
   ]
  },
  {
   "cell_type": "code",
   "execution_count": 205,
   "metadata": {},
   "outputs": [
    {
     "name": "stdout",
     "output_type": "stream",
     "text": [
      "2\n",
      "18\n",
      "21\n",
      "24\n",
      "27\n",
      "30\n",
      "33\n",
      "36\n",
      "40\n",
      "43\n",
      "46\n",
      "53\n",
      "63\n",
      "66\n",
      "73\n",
      "80\n",
      "91\n",
      "99\n",
      "102\n",
      "105\n",
      "111\n",
      "116\n",
      "119\n",
      "122\n",
      "126\n",
      "131\n",
      "154\n",
      "165\n",
      "175\n",
      "181\n",
      "188\n",
      "193\n",
      "197\n",
      "201\n",
      "206\n",
      "209\n",
      "221\n",
      "253\n",
      "258\n",
      "273\n",
      "280\n",
      "296\n",
      "307\n",
      "327\n",
      "350\n",
      "382\n",
      "416\n",
      "419\n",
      "422\n",
      "473\n",
      "482\n",
      "495\n",
      "502\n",
      "511\n",
      "516\n",
      "527\n"
     ]
    }
   ],
   "source": [
    "for idx, t in enumerate(test):\n",
    "    if '보기' in t.text:\n",
    "        print(idx)"
   ]
  },
  {
   "cell_type": "code",
   "execution_count": 209,
   "metadata": {},
   "outputs": [],
   "source": [
    "more_reply = driver.find_elements_by_xpath('//*[@id=\"continuation\"]/yt-next-continuation/paper-button/yt-formatted-string')"
   ]
  },
  {
   "cell_type": "code",
   "execution_count": 216,
   "metadata": {},
   "outputs": [],
   "source": [
    "more_replies = []\n",
    "for reply in more_reply:\n",
    "    more_replies.append(reply.text)\n",
    "    \n",
    "t_list = []\n",
    "for t in test:\n",
    "    t_list.append(t.text)"
   ]
  },
  {
   "cell_type": "markdown",
   "metadata": {},
   "source": [
    "위에서 아래로 내려오면서 한번씩 클릭하고, 답글 더보기가 없을때 멈추자.  \n",
    "비효율적인것은 안다."
   ]
  },
  {
   "cell_type": "markdown",
   "metadata": {},
   "source": [
    "# 클릭을하고나서도 답글더보기, 자세히보기가나온다\n",
    "- 답글 더보기로 먼저 다 출력하고나서 자세히보기는 그다음에 진행하는걸로"
   ]
  },
  {
   "cell_type": "code",
   "execution_count": 78,
   "metadata": {},
   "outputs": [],
   "source": [
    "def Youtube_crawl_2(url):\n",
    "    url = url\n",
    "\n",
    "    #자신의 크롬 버전에 맞는 드라이버 다운\n",
    "    driver = webdriver.Chrome('./chromedriver') #크롬 드라이버 경로\n",
    "    driver.get(url)\n",
    "\n",
    "    time.sleep(5) #댓글창로딩\n",
    "\n",
    "    last_page_height = driver.execute_script(\"return document.documentElement.scrollHeight\")\n",
    "\n",
    "    #댓글 최하단까지 이동\n",
    "    while True:\n",
    "        driver.execute_script(\"window.scrollTo(0, document.documentElement.scrollHeight)\")\n",
    "        time.sleep(5)\n",
    "        new_page_height = driver.execute_script(\"return document.documentElement.scrollHeight\")\n",
    "\n",
    "        if new_page_height == last_page_height:\n",
    "            break\n",
    "\n",
    "        last_page_height = new_page_height\n",
    "    \n",
    "    #자세히 보기를 클릭해 리뷰 잘림 현상 방지\n",
    "    load_more = driver.find_elements_by_xpath('//*[@id=\"more\"]/span')\n",
    "\n",
    "    for load in load_more:\n",
    "        if load.text == '자세히 보기':\n",
    "            load.click()\n",
    "\n",
    "    reviews = driver.find_elements_by_xpath('//*[@id=\"main\"]')\n",
    "    likes = driver.find_elements_by_xpath('//*[@id=\"vote-count-middle\"]')\n",
    "\n",
    "    if len(reviews) != len(likes):\n",
    "        reviews = reviews[:-1] #마지막 review에 Youtube Premium 광고가 섞이는경우가있음\n",
    "\n",
    "    df = pd.DataFrame(columns=['리뷰', '좋아요'])\n",
    "\n",
    "    review_list = []\n",
    "    like_list = []\n",
    "    for review, like in zip(reviews, likes):\n",
    "        review_list.append(review.text)\n",
    "        like_list.append(like.text)\n",
    "\n",
    "    df['리뷰'] = review_list\n",
    "    df['좋아요'] = like_list\n",
    "    \n",
    "    return df"
   ]
  },
  {
   "cell_type": "code",
   "execution_count": 79,
   "metadata": {},
   "outputs": [],
   "source": [
    "df = Youtube_crawl_2('https://www.youtube.com/watch?v=HhgcXuN0MlU&t=599s')"
   ]
  },
  {
   "cell_type": "markdown",
   "metadata": {},
   "source": [
    "스크롤횟수를 변화시키면서 리뷰가 어느정도씩 추가되는지를 봐보자"
   ]
  },
  {
   "cell_type": "markdown",
   "metadata": {},
   "source": [
    "### 좋아요 수 전처리\n",
    "- '1천', or ''"
   ]
  },
  {
   "cell_type": "markdown",
   "metadata": {},
   "source": [
    "답글과 자세히보기문제"
   ]
  },
  {
   "cell_type": "code",
   "execution_count": 55,
   "metadata": {},
   "outputs": [],
   "source": [
    "df['좋아요'] = df['좋아요'].apply(lambda x: re.sub('천 | 만','000',x)) #천의 경우는 1천 / 만의 경우는 1.1만 의 경우로 표현됨"
   ]
  },
  {
   "cell_type": "code",
   "execution_count": 56,
   "metadata": {},
   "outputs": [
    {
     "data": {
      "text/plain": [
       "0        1419111\n",
       "1        1317131\n",
       "2        1117171\n",
       "3      111010101\n",
       "4        1118181\n",
       "         ...    \n",
       "375        17161\n",
       "376            1\n",
       "377            1\n",
       "378            1\n",
       "379            1\n",
       "Name: 좋아요, Length: 380, dtype: object"
      ]
     },
     "execution_count": 56,
     "metadata": {},
     "output_type": "execute_result"
    }
   ],
   "source": [
    "df['좋아요']"
   ]
  },
  {
   "cell_type": "markdown",
   "metadata": {},
   "source": [
    "like에 가중치를 둔다면?\n",
    "댓글 * like로 가중치를두어계산(이때 log2 씌워주고) #like가없다면 차이를두어야겠지?"
   ]
  }
 ],
 "metadata": {
  "kernelspec": {
   "display_name": "Python 3",
   "language": "python",
   "name": "python3"
  },
  "language_info": {
   "codemirror_mode": {
    "name": "ipython",
    "version": 3
   },
   "file_extension": ".py",
   "mimetype": "text/x-python",
   "name": "python",
   "nbconvert_exporter": "python",
   "pygments_lexer": "ipython3",
   "version": "3.6.10"
  }
 },
 "nbformat": 4,
 "nbformat_minor": 4
}
